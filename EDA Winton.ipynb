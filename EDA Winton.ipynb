{
 "cells": [
  {
   "cell_type": "markdown",
   "metadata": {},
   "source": [
    "Emphasize:\n",
    "- Problem Solving Skills\n",
    "- Exploratory Data Analysis\n",
    "- Understand Problem domain"
   ]
  },
  {
   "cell_type": "code",
   "execution_count": 1,
   "metadata": {},
   "outputs": [
    {
     "data": {
      "text/html": [
       "<style>.container { width:100% !important; }</style>"
      ],
      "text/plain": [
       "<IPython.core.display.HTML object>"
      ]
     },
     "metadata": {},
     "output_type": "display_data"
    }
   ],
   "source": [
    "from IPython.core.display import display, HTML\n",
    "display(HTML(\"<style>.container { width:100% !important; }</style>\"))"
   ]
  },
  {
   "cell_type": "code",
   "execution_count": 2,
   "metadata": {},
   "outputs": [],
   "source": [
    "import pandas as pd\n",
    "import numpy as np\n",
    "import scipy as sp\n",
    "import seaborn as sns\n",
    "import matplotlib.pyplot as plt\n",
    "%matplotlib inline\n",
    "\n",
    "df = pd.read_csv('./data/winton/train.csv', index_col='Id')"
   ]
  },
  {
   "attachments": {
    "image.png": {
     "image/png": "[encoded data removed]"
    }
   },
   "cell_type": "markdown",
   "metadata": {},
   "source": [
    "Error function for Evaluation\n",
    "![image.png](attachment:image.png)"
   ]
  },
  {
   "cell_type": "markdown",
   "metadata": {},
   "source": [
    "# Strategy\n",
    "\n",
    "- [X] Data Cleaning\n",
    "    - Deal with NaNs\n",
    "    - Mask data\n",
    "- [3:00] EDA\n",
    "    - Naive Model\n",
    "        - Look at residuals\n",
    "- [4:45] Setup Cross Validating (will figure this out on Naive Model)\n",
    "- [5:15] Model Improvements\n",
    "    - DTW with KNN (k=1?)\n",
    "        - [https://github.com/markdregan/K-Nearest-Neighbors-with-Dynamic-Time-Warping/blob/master/K_Nearest_Neighbor_Dynamic_Time_Warping.ipynb]\n",
    "        - Or possibly: http://alexminnaar.com/time-series-classification-and-clustering-with-python.html\n",
    "    - Clustering\n",
    "        - kmeans/GMM on features\n",
    "        - Hierarchical clustering on DTW distances\n",
    "    - Clustering and stacking based on membership?    "
   ]
  },
  {
   "cell_type": "code",
   "execution_count": 3,
   "metadata": {},
   "outputs": [],
   "source": [
    "mask_exog_return_days = ['Ret_MinusTwo', 'Ret_MinusOne']\n",
    "mask_endog_return_days = ['Ret_PlusOne', 'Ret_PlusTwo']\n",
    "\n",
    "mask_exog_feature = [i for i in df.columns if 'Feature_' in i]\n",
    "mask_exog_return = [i for i in df.columns \n",
    "                    if 'Ret_' in i\n",
    "                    and i not in mask_exog_return_days\n",
    "                    and i not in mask_endog_return_days]\n",
    "mask_exog_return = [i for i in mask_exog_return if int(i.split('_')[1]) <= 120]\n",
    "mask_exog = mask_exog_return + mask_exog_feature\n",
    "mask_exog = mask_exog_return_days + mask_exog\n",
    "\n",
    "mask_endog_return = [i for i in df.columns \n",
    "                    if 'Ret_' in i\n",
    "                    and i not in mask_exog_return_days\n",
    "                    and i not in mask_endog_return_days]\n",
    "mask_endog_return = [i for i in mask_endog_return if int(i.split('_')[1]) > 120]\n",
    "mask_endog = mask_endog_return + mask_endog_return_days\n",
    "\n",
    "mask_weights = ['Weight_Intraday', 'Weight_Daily']"
   ]
  },
  {
   "cell_type": "markdown",
   "metadata": {},
   "source": [
    "### Data Cleaning"
   ]
  },
  {
   "cell_type": "code",
   "execution_count": 133,
   "metadata": {
    "scrolled": true
   },
   "outputs": [
    {
     "data": {
      "text/plain": [
       "Feature_1          float64\n",
       "Feature_2          float64\n",
       "Feature_3          float64\n",
       "Feature_4          float64\n",
       "Feature_5          float64\n",
       "Feature_6          float64\n",
       "Feature_7            int64\n",
       "Feature_8          float64\n",
       "Feature_9          float64\n",
       "Feature_10         float64\n",
       "Feature_11         float64\n",
       "Feature_12         float64\n",
       "Feature_13         float64\n",
       "Feature_14         float64\n",
       "Feature_15         float64\n",
       "Feature_16         float64\n",
       "Feature_17         float64\n",
       "Feature_18         float64\n",
       "Feature_19         float64\n",
       "Feature_20         float64\n",
       "Feature_21         float64\n",
       "Feature_22         float64\n",
       "Feature_23         float64\n",
       "Feature_24         float64\n",
       "Feature_25         float64\n",
       "Ret_MinusTwo       float64\n",
       "Ret_MinusOne       float64\n",
       "Ret_2              float64\n",
       "Ret_3              float64\n",
       "Ret_4              float64\n",
       "                    ...   \n",
       "Ret_155            float64\n",
       "Ret_156            float64\n",
       "Ret_157            float64\n",
       "Ret_158            float64\n",
       "Ret_159            float64\n",
       "Ret_160            float64\n",
       "Ret_161            float64\n",
       "Ret_162            float64\n",
       "Ret_163            float64\n",
       "Ret_164            float64\n",
       "Ret_165            float64\n",
       "Ret_166            float64\n",
       "Ret_167            float64\n",
       "Ret_168            float64\n",
       "Ret_169            float64\n",
       "Ret_170            float64\n",
       "Ret_171            float64\n",
       "Ret_172            float64\n",
       "Ret_173            float64\n",
       "Ret_174            float64\n",
       "Ret_175            float64\n",
       "Ret_176            float64\n",
       "Ret_177            float64\n",
       "Ret_178            float64\n",
       "Ret_179            float64\n",
       "Ret_180            float64\n",
       "Ret_PlusOne        float64\n",
       "Ret_PlusTwo        float64\n",
       "Weight_Intraday    float64\n",
       "Weight_Daily       float64\n",
       "Length: 210, dtype: object"
      ]
     },
     "execution_count": 133,
     "metadata": {},
     "output_type": "execute_result"
    }
   ],
   "source": [
    "df.dtypes"
   ]
  },
  {
   "cell_type": "markdown",
   "metadata": {},
   "source": [
    "Not sure what 'Feature_7' is. Maybe it's a population? Will keep this in mind throughout. "
   ]
  },
  {
   "cell_type": "code",
   "execution_count": 134,
   "metadata": {
    "scrolled": true
   },
   "outputs": [
    {
     "data": {
      "text/plain": [
       "Id\n",
       "1        75751\n",
       "2        17369\n",
       "3         8277\n",
       "4        22508\n",
       "5        22423\n",
       "6        24099\n",
       "7        39351\n",
       "8        92214\n",
       "9        18418\n",
       "10       47637\n",
       "11       51499\n",
       "12       79888\n",
       "13       63267\n",
       "14       35023\n",
       "15       76131\n",
       "16       69564\n",
       "17       94022\n",
       "18       16080\n",
       "19       14259\n",
       "20       65146\n",
       "21       47683\n",
       "22       35266\n",
       "23       49660\n",
       "24       57773\n",
       "25       34161\n",
       "26       64351\n",
       "27       19660\n",
       "28       94975\n",
       "29       99483\n",
       "30       40712\n",
       "         ...  \n",
       "39971    54939\n",
       "39972    76736\n",
       "39973    62179\n",
       "39974    39562\n",
       "39975    34124\n",
       "39976    60280\n",
       "39977    99075\n",
       "39978    48365\n",
       "39979    39069\n",
       "39980    23153\n",
       "39981    44670\n",
       "39982    34324\n",
       "39983    39848\n",
       "39984     1344\n",
       "39985    29262\n",
       "39986    97667\n",
       "39987    34425\n",
       "39988    27661\n",
       "39989    43321\n",
       "39990    33304\n",
       "39991    62488\n",
       "39992    28859\n",
       "39993    82639\n",
       "39994    35409\n",
       "39995    64603\n",
       "39996    23729\n",
       "39997    56222\n",
       "39998     7024\n",
       "39999    27376\n",
       "40000     4141\n",
       "Name: Feature_7, Length: 40000, dtype: int64"
      ]
     },
     "execution_count": 134,
     "metadata": {},
     "output_type": "execute_result"
    }
   ],
   "source": [
    "df['Feature_7']"
   ]
  },
  {
   "cell_type": "markdown",
   "metadata": {},
   "source": [
    "### Deal with NaNs"
   ]
  },
  {
   "cell_type": "markdown",
   "metadata": {},
   "source": [
    "##### Most rows have nulls"
   ]
  },
  {
   "cell_type": "code",
   "execution_count": 4,
   "metadata": {},
   "outputs": [
    {
     "data": {
      "text/plain": [
       "0.976775"
      ]
     },
     "execution_count": 4,
     "metadata": {},
     "output_type": "execute_result"
    }
   ],
   "source": [
    "df.isnull().values.any(axis=1).mean()"
   ]
  },
  {
   "cell_type": "code",
   "execution_count": 5,
   "metadata": {},
   "outputs": [],
   "source": [
    "mask_ignore_feat = list(filter(lambda x: 'Feat' not in x, mask_exog))"
   ]
  },
  {
   "cell_type": "markdown",
   "metadata": {},
   "source": [
    "##### Half of the rows that have a null 'anywhere' are due to features missing. Let's ignore them for the naive model. (for now)"
   ]
  },
  {
   "cell_type": "code",
   "execution_count": 6,
   "metadata": {},
   "outputs": [
    {
     "data": {
      "text/plain": [
       "0.44025"
      ]
     },
     "execution_count": 6,
     "metadata": {},
     "output_type": "execute_result"
    }
   ],
   "source": [
    "df[mask_ignore_feat]\\\n",
    "    .isnull().values.any(axis=1).mean()"
   ]
  },
  {
   "cell_type": "markdown",
   "metadata": {},
   "source": [
    "##### non of the endog return days are missing this is nice. "
   ]
  },
  {
   "cell_type": "code",
   "execution_count": 7,
   "metadata": {},
   "outputs": [
    {
     "data": {
      "text/plain": [
       "0.0"
      ]
     },
     "execution_count": 7,
     "metadata": {},
     "output_type": "execute_result"
    }
   ],
   "source": [
    "df[mask_endog_return_days].isnull().values.any(axis=1).mean()"
   ]
  },
  {
   "cell_type": "markdown",
   "metadata": {},
   "source": [
    "##### None of the endog minutes are missing"
   ]
  },
  {
   "cell_type": "code",
   "execution_count": 8,
   "metadata": {},
   "outputs": [
    {
     "data": {
      "text/plain": [
       "0.0"
      ]
     },
     "execution_count": 8,
     "metadata": {},
     "output_type": "execute_result"
    }
   ],
   "source": [
    "df[mask_endog].isnull().values.any(axis=1).mean()"
   ]
  },
  {
   "cell_type": "markdown",
   "metadata": {},
   "source": [
    "##### none of the exogenous days are missing (D-2 and D-1)"
   ]
  },
  {
   "cell_type": "code",
   "execution_count": 9,
   "metadata": {},
   "outputs": [
    {
     "data": {
      "text/plain": [
       "Ret_MinusTwo    0.0\n",
       "Ret_MinusOne    0.0\n",
       "dtype: float64"
      ]
     },
     "execution_count": 9,
     "metadata": {},
     "output_type": "execute_result"
    }
   ],
   "source": [
    "df[mask_exog_return_days].isnull().mean()"
   ]
  },
  {
   "cell_type": "markdown",
   "metadata": {},
   "source": [
    "#### For the missing exogenous minute time data how do we want to handle NaNs?"
   ]
  },
  {
   "cell_type": "markdown",
   "metadata": {},
   "source": [
    "For exogenous minutes it looks like there's never more than 3.5% of the data missing. Since this is a pretty small I will fillna's with linearly interpolated data. I can come back to this later. "
   ]
  },
  {
   "cell_type": "code",
   "execution_count": 10,
   "metadata": {},
   "outputs": [
    {
     "data": {
      "text/plain": [
       "<matplotlib.axes._subplots.AxesSubplot at 0x1a15237e10>"
      ]
     },
     "execution_count": 10,
     "metadata": {},
     "output_type": "execute_result"
    },
    {
     "data": {
      "image/png": "[encoded data removed]",
      "text/plain": [
       "<matplotlib.figure.Figure at 0x1a15237c18>"
      ]
     },
     "metadata": {},
     "output_type": "display_data"
    }
   ],
   "source": [
    "df[mask_ignore_feat].isnull().mean().hist()"
   ]
  },
  {
   "cell_type": "markdown",
   "metadata": {},
   "source": [
    "##### Interpolate missing exogenous minutes"
   ]
  },
  {
   "cell_type": "code",
   "execution_count": 11,
   "metadata": {},
   "outputs": [],
   "source": [
    "def interpolate_time(df):\n",
    "    df[mask_ignore_feat] = df[mask_ignore_feat].T.interpolate().T\n",
    "    return df"
   ]
  },
  {
   "cell_type": "markdown",
   "metadata": {},
   "source": [
    "#### Before and after interpolation"
   ]
  },
  {
   "cell_type": "code",
   "execution_count": 12,
   "metadata": {},
   "outputs": [
    {
     "data": {
      "text/plain": [
       "0.44025"
      ]
     },
     "execution_count": 12,
     "metadata": {},
     "output_type": "execute_result"
    }
   ],
   "source": [
    "df[mask_ignore_feat].isnull().values.any(axis=1).mean()"
   ]
  },
  {
   "cell_type": "markdown",
   "metadata": {},
   "source": [
    "##### 0 nulls are left"
   ]
  },
  {
   "cell_type": "code",
   "execution_count": 13,
   "metadata": {},
   "outputs": [],
   "source": [
    "df = interpolate_time(df)"
   ]
  },
  {
   "cell_type": "code",
   "execution_count": 14,
   "metadata": {},
   "outputs": [
    {
     "data": {
      "text/plain": [
       "0.0"
      ]
     },
     "execution_count": 14,
     "metadata": {},
     "output_type": "execute_result"
    }
   ],
   "source": [
    "df[mask_ignore_feat].isnull().values.any(axis=1).mean()"
   ]
  },
  {
   "cell_type": "markdown",
   "metadata": {},
   "source": [
    "#### Apply mask"
   ]
  },
  {
   "cell_type": "code",
   "execution_count": 15,
   "metadata": {},
   "outputs": [],
   "source": [
    "X = df[mask_exog]\n",
    "Y = df[mask_endog]\n",
    "w = df[mask_weights]"
   ]
  },
  {
   "cell_type": "markdown",
   "metadata": {},
   "source": [
    "done  (for now)"
   ]
  },
  {
   "cell_type": "markdown",
   "metadata": {},
   "source": [
    "### Naive Model\n",
    "- Residuals\n",
    "- Other artifacts observations? "
   ]
  },
  {
   "cell_type": "markdown",
   "metadata": {},
   "source": [
    "Keeping things really simple.\n",
    "\n",
    "I'm Going to simply start by predicting the average return for T-121 -- 180 and then also the return for D + 1 and D + 2. \n",
    "\n",
    "Since there are a lot of NaN's I'm going to "
   ]
  },
  {
   "cell_type": "code",
   "execution_count": 16,
   "metadata": {
    "collapsed": true
   },
   "outputs": [
    {
     "name": "stderr",
     "output_type": "stream",
     "text": [
      "/Users/ryan/miniconda3/envs/time_series/lib/python3.6/site-packages/ipykernel_launcher.py:1: SettingWithCopyWarning: \n",
      "A value is trying to be set on a copy of a slice from a DataFrame.\n",
      "Try using .loc[row_indexer,col_indexer] = value instead\n",
      "\n",
      "See the caveats in the documentation: http://pandas.pydata.org/pandas-docs/stable/indexing.html#indexing-view-versus-copy\n",
      "  \"\"\"Entry point for launching an IPython kernel.\n",
      "/Users/ryan/miniconda3/envs/time_series/lib/python3.6/site-packages/ipykernel_launcher.py:2: SettingWithCopyWarning: \n",
      "A value is trying to be set on a copy of a slice from a DataFrame.\n",
      "Try using .loc[row_indexer,col_indexer] = value instead\n",
      "\n",
      "See the caveats in the documentation: http://pandas.pydata.org/pandas-docs/stable/indexing.html#indexing-view-versus-copy\n",
      "  \n",
      "/Users/ryan/miniconda3/envs/time_series/lib/python3.6/site-packages/ipykernel_launcher.py:3: SettingWithCopyWarning: \n",
      "A value is trying to be set on a copy of a slice from a DataFrame.\n",
      "Try using .loc[row_indexer,col_indexer] = value instead\n",
      "\n",
      "See the caveats in the documentation: http://pandas.pydata.org/pandas-docs/stable/indexing.html#indexing-view-versus-copy\n",
      "  This is separate from the ipykernel package so we can avoid doing imports until\n",
      "/Users/ryan/miniconda3/envs/time_series/lib/python3.6/site-packages/ipykernel_launcher.py:4: SettingWithCopyWarning: \n",
      "A value is trying to be set on a copy of a slice from a DataFrame.\n",
      "Try using .loc[row_indexer,col_indexer] = value instead\n",
      "\n",
      "See the caveats in the documentation: http://pandas.pydata.org/pandas-docs/stable/indexing.html#indexing-view-versus-copy\n",
      "  after removing the cwd from sys.path.\n",
      "/Users/ryan/miniconda3/envs/time_series/lib/python3.6/site-packages/ipykernel_launcher.py:6: SettingWithCopyWarning: \n",
      "A value is trying to be set on a copy of a slice from a DataFrame.\n",
      "Try using .loc[row_indexer,col_indexer] = value instead\n",
      "\n",
      "See the caveats in the documentation: http://pandas.pydata.org/pandas-docs/stable/indexing.html#indexing-view-versus-copy\n",
      "  \n"
     ]
    }
   ],
   "source": [
    "X['intra_return_mean'] = X[mask_exog_return].T.mean()\n",
    "X['intra_return_std'] = X[mask_exog_return].T.std()\n",
    "X['intra_return_max'] = X[mask_exog_return].T.max()\n",
    "X['intra_return_min'] = X[mask_exog_return].T.min()\n",
    "\n",
    "Y['intra_return_mean'] = Y[mask_endog_return].T.mean()"
   ]
  },
  {
   "cell_type": "code",
   "execution_count": 90,
   "metadata": {},
   "outputs": [],
   "source": [
    "mask_x_simple = [\"intra_return_mean\", \"intra_return_std\", \"intra_return_max\", \"intra_return_min\"]\n",
    "\n",
    "Y_simple = Y[['intra_return_mean'] + mask_endog_return_days]\n",
    "X_simple = X[mask_x_simple + mask_exog_return_days]"
   ]
  },
  {
   "cell_type": "markdown",
   "metadata": {},
   "source": [
    "Apply the sample weights in training. \n",
    "\n",
    "For the intra_return_mean I'm going to use the weights times 60 for intra_return_mean since it's the mean of 60 intra day returns"
   ]
  },
  {
   "cell_type": "code",
   "execution_count": 89,
   "metadata": {},
   "outputs": [],
   "source": [
    "def weight_input_pipeline(y, w):\n",
    "    df =  pd.concat([y['intra_return_mean'] * 60 * w['Weight_Intraday'],\n",
    "                     y['Ret_PlusOne'] * w['Weight_Daily'],\n",
    "                     y['Ret_PlusTwo'] * w['Weight_Daily']],\n",
    "                    axis=1)\n",
    "    df.columns = y.columns\n",
    "    return df"
   ]
  },
  {
   "cell_type": "code",
   "execution_count": 26,
   "metadata": {},
   "outputs": [],
   "source": [
    "from sklearn.pipeline import Pipeline\n",
    "from sklearn.preprocessing import MinMaxScaler\n",
    "from sklearn.metrics import mean_absolute_error\n",
    "from sklearn.model_selection import KFold\n",
    "# from sklearn.ensemble import RandomForestRegressor\n",
    "# from sklearn.tree import DecisionTreeRegressor\n",
    "from sklearn.linear_model import RANSACRegressor\n",
    "\n",
    "cv = KFold(n_splits=5, shuffle=True, random_state=42)\n",
    "\n",
    "model = Pipeline(steps = [('minmax_scaler', MinMaxScaler()),\n",
    "                          ('LinearReg', RANSACRegressor())])"
   ]
  },
  {
   "cell_type": "markdown",
   "metadata": {},
   "source": [
    "##### Getting a sense of training time"
   ]
  },
  {
   "cell_type": "code",
   "execution_count": 21,
   "metadata": {},
   "outputs": [
    {
     "name": "stdout",
     "output_type": "stream",
     "text": [
      "56.1 ms ± 2.2 ms per loop (mean ± std. dev. of 7 runs, 10 loops each)\n"
     ]
    }
   ],
   "source": [
    "%%timeit\n",
    "limit = 1000\n",
    "model.fit(X_simple.iloc[:limit],\n",
    "          weight_input_pipeline(Y_simple.iloc[:limit], w.iloc[:limit]))"
   ]
  },
  {
   "cell_type": "code",
   "execution_count": 22,
   "metadata": {},
   "outputs": [
    {
     "name": "stdout",
     "output_type": "stream",
     "text": [
      "63.4 ms ± 1.3 ms per loop (mean ± std. dev. of 7 runs, 10 loops each)\n"
     ]
    }
   ],
   "source": [
    "%%timeit\n",
    "limit = 2000\n",
    "model.fit(X_simple.iloc[:limit],\n",
    "          weight_input_pipeline(Y_simple.iloc[:limit], w.iloc[:limit]))"
   ]
  },
  {
   "cell_type": "code",
   "execution_count": 23,
   "metadata": {},
   "outputs": [
    {
     "name": "stdout",
     "output_type": "stream",
     "text": [
      "96.1 ms ± 5.42 ms per loop (mean ± std. dev. of 7 runs, 10 loops each)\n"
     ]
    }
   ],
   "source": [
    "%%timeit\n",
    "limit = 4000\n",
    "model.fit(X_simple.iloc[:limit],\n",
    "          weight_input_pipeline(Y_simple.iloc[:limit], w.iloc[:limit]))"
   ]
  },
  {
   "cell_type": "markdown",
   "metadata": {},
   "source": [
    "#### MAE"
   ]
  },
  {
   "cell_type": "code",
   "execution_count": 93,
   "metadata": {},
   "outputs": [
    {
     "data": {
      "text/plain": [
       "35277.496776005086"
      ]
     },
     "execution_count": 93,
     "metadata": {},
     "output_type": "execute_result"
    }
   ],
   "source": [
    "model = Pipeline(steps = [('minmax_scaler', MinMaxScaler()),\n",
    "                          ('RANSAC', RANSACRegressor())])\n",
    "\n",
    "model.fit(X_simple, weight_input_pipeline(Y_simple, w))\n",
    "\n",
    "y_pred = model.predict(X_simple)\n",
    "\n",
    "mean_absolute_error(weight_input_pipeline(Y_simple, w), y_pred)"
   ]
  },
  {
   "cell_type": "markdown",
   "metadata": {},
   "source": [
    "### Evaluate Residuals"
   ]
  },
  {
   "cell_type": "code",
   "execution_count": 100,
   "metadata": {},
   "outputs": [],
   "source": [
    "def resid_plot(y_pred, y_actual, title, error):\n",
    "    fig = plt.figure(figsize=(8, 4))\n",
    "    ax1 = fig.add_subplot(1, 2, 1)\n",
    "    ax1.scatter(y_pred, y_pred - y_actual)\n",
    "    plt.title(title + \" Residuals\", fontsize=10)\n",
    "    ax2 = fig.add_subplot(1, 2, 2)\n",
    "    ax2.hist(y_pred - y_actual, orientation='horizontal')\n",
    "    plt.title(title + \" Hist of Residuals\", fontsize=10)\n",
    "#     plt.savefig('/Users/ryanlambert/Desktop/' + title + \"_Hist_of_Residuals.png\")\n",
    "    plt.show()\n",
    "    plt.hexbin(y_pred, y_pred - y_actual)\n",
    "    plt.title(title + \" Hexbin of Residuals\", fontsize=10)"
   ]
  },
  {
   "cell_type": "code",
   "execution_count": 101,
   "metadata": {},
   "outputs": [
    {
     "data": {
      "image/png": "[encoded data removed]",
      "text/plain": [
       "<matplotlib.figure.Figure at 0x1a2c23f860>"
      ]
     },
     "metadata": {},
     "output_type": "display_data"
    },
    {
     "data": {
      "image/png": "[encoded data removed]",
      "text/plain": [
       "<matplotlib.figure.Figure at 0x1a18b84278>"
      ]
     },
     "metadata": {},
     "output_type": "display_data"
    }
   ],
   "source": [
    "col = 0\n",
    "resid_plot(y_pred[:, col], weight_input_pipeline(Y_simple, w).iloc[:, col], 'T-120 to T-180', 'thing')"
   ]
  },
  {
   "cell_type": "code",
   "execution_count": 102,
   "metadata": {},
   "outputs": [
    {
     "data": {
      "image/png": "[encoded data removed]",
      "text/plain": [
       "<matplotlib.figure.Figure at 0x1a2c1f2710>"
      ]
     },
     "metadata": {},
     "output_type": "display_data"
    },
    {
     "data": {
      "image/png": "[encoded data removed]",
      "text/plain": [
       "<matplotlib.figure.Figure at 0x1a2c4a8ef0>"
      ]
     },
     "metadata": {},
     "output_type": "display_data"
    }
   ],
   "source": [
    "col = 1\n",
    "resid_plot(y_pred[:, col], weight_input_pipeline(Y_simple, w).iloc[:, col], 'T-120 to T-180', 'thing')"
   ]
  },
  {
   "cell_type": "code",
   "execution_count": 103,
   "metadata": {},
   "outputs": [
    {
     "data": {
      "image/png": "[encoded data removed]",
      "text/plain": [
       "<matplotlib.figure.Figure at 0x1a15846908>"
      ]
     },
     "metadata": {},
     "output_type": "display_data"
    },
    {
     "data": {
      "image/png": "[encoded data removed]",
      "text/plain": [
       "<matplotlib.figure.Figure at 0x1a15846c50>"
      ]
     },
     "metadata": {},
     "output_type": "display_data"
    }
   ],
   "source": [
    "col = 2\n",
    "resid_plot(y_pred[:, col], weight_input_pipeline(Y_simple, w).iloc[:, col], 'T-120 to T-180', 'thing')"
   ]
  },
  {
   "cell_type": "markdown",
   "metadata": {},
   "source": [
    "### Setup Cross Validation (with naive model)"
   ]
  },
  {
   "cell_type": "code",
   "execution_count": 111,
   "metadata": {},
   "outputs": [],
   "source": [
    "from sklearn.model_selection import KFold\n",
    "\n",
    "cv = KFold(5, True, 42)"
   ]
  },
  {
   "cell_type": "code",
   "execution_count": 117,
   "metadata": {},
   "outputs": [],
   "source": [
    "cross_val_mae = []\n",
    "for train, val in cv.split(X_simple, Y_simple):\n",
    "    model = Pipeline(steps = [('minmax_scaler', MinMaxScaler()),\n",
    "                              ('RANSAC', RANSACRegressor())])\n",
    "    model.fit(X_simple.iloc[train],\n",
    "              weight_input_pipeline(Y_simple.iloc[train],\n",
    "                                                          w.iloc[train]))\n",
    "    y_pred = model.predict(X_simple.iloc[val])\n",
    "    cross_val_mae.append(mean_absolute_error(Y_simple.iloc[val], y_pred))"
   ]
  },
  {
   "cell_type": "code",
   "execution_count": 118,
   "metadata": {},
   "outputs": [
    {
     "data": {
      "text/plain": [
       "[25609.621438847185,\n",
       " 26254.349467768276,\n",
       " 21967.00093890722,\n",
       " 24655.763428992726,\n",
       " 31815.8985479003]"
      ]
     },
     "execution_count": 118,
     "metadata": {},
     "output_type": "execute_result"
    }
   ],
   "source": [
    "cross_val_mae"
   ]
  },
  {
   "cell_type": "markdown",
   "metadata": {},
   "source": [
    "That is crap! Let's make it better!"
   ]
  },
  {
   "cell_type": "code",
   "execution_count": null,
   "metadata": {},
   "outputs": [],
   "source": []
  },
  {
   "cell_type": "markdown",
   "metadata": {},
   "source": [
    "### Maybe day 1 and day 2 will each get their own model"
   ]
  },
  {
   "cell_type": "markdown",
   "metadata": {},
   "source": [
    "### DTW and KNN\n",
    "inspiration from: http://alexminnaar.com/time-series-classification-and-clustering-with-python.html\n"
   ]
  },
  {
   "cell_type": "code",
   "execution_count": null,
   "metadata": {},
   "outputs": [],
   "source": []
  },
  {
   "cell_type": "code",
   "execution_count": null,
   "metadata": {},
   "outputs": [],
   "source": []
  },
  {
   "cell_type": "code",
   "execution_count": null,
   "metadata": {},
   "outputs": [],
   "source": []
  },
  {
   "cell_type": "code",
   "execution_count": null,
   "metadata": {},
   "outputs": [],
   "source": []
  },
  {
   "cell_type": "code",
   "execution_count": null,
   "metadata": {},
   "outputs": [],
   "source": []
  },
  {
   "cell_type": "code",
   "execution_count": null,
   "metadata": {},
   "outputs": [],
   "source": []
  },
  {
   "cell_type": "code",
   "execution_count": null,
   "metadata": {},
   "outputs": [],
   "source": []
  },
  {
   "cell_type": "code",
   "execution_count": null,
   "metadata": {},
   "outputs": [],
   "source": []
  },
  {
   "cell_type": "code",
   "execution_count": null,
   "metadata": {},
   "outputs": [],
   "source": []
  },
  {
   "cell_type": "code",
   "execution_count": null,
   "metadata": {},
   "outputs": [],
   "source": []
  },
  {
   "cell_type": "code",
   "execution_count": null,
   "metadata": {},
   "outputs": [],
   "source": []
  }
 ],
 "metadata": {
  "kernelspec": {
   "display_name": "Python3 (time_series Conda)",
   "language": "python",
   "name": "time_series"
  },
  "language_info": {
   "codemirror_mode": {
    "name": "ipython",
    "version": 3
   },
   "file_extension": ".py",
   "mimetype": "text/x-python",
   "name": "python",
   "nbconvert_exporter": "python",
   "pygments_lexer": "ipython3",
   "version": "3.6.4"
  }
 },
 "nbformat": 4,
 "nbformat_minor": 2
}
